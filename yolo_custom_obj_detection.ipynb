{
 "cells": [
  {
   "cell_type": "code",
   "execution_count": 1,
   "id": "dae8c8ce",
   "metadata": {},
   "outputs": [],
   "source": [
    "import os\n",
    "from glob import glob # extract path of each file\n",
    "import pandas as pd # data preprocessing\n",
    "from xml.etree import ElementTree as et # parse information from XML\n",
    "from functools import reduce"
   ]
  },
  {
   "cell_type": "code",
   "execution_count": 2,
   "id": "e6765cbd",
   "metadata": {},
   "outputs": [],
   "source": [
    "import warnings\n",
    "warnings.filterwarnings('ignore')"
   ]
  },
  {
   "cell_type": "code",
   "execution_count": 5,
   "id": "12e403f7",
   "metadata": {},
   "outputs": [],
   "source": [
    "# step-1: get path of each xml file\n",
    "xmlfiles = glob('./data_images/*.xml')\n",
    "# replace \\\\ with /\n",
    "replace_text = lambda x: x.replace('\\\\','/')\n",
    "xmlfiles = list(map(replace_text,xmlfiles))"
   ]
  },
  {
   "cell_type": "code",
   "execution_count": 6,
   "id": "2fdb0bdf",
   "metadata": {},
   "outputs": [
    {
     "data": {
      "text/plain": [
       "['./data_images/48.xml',\n",
       " './data_images/8.xml',\n",
       " './data_images/9.xml',\n",
       " './data_images/28.xml',\n",
       " './data_images/14.xml',\n",
       " './data_images/15.xml',\n",
       " './data_images/29.xml',\n",
       " './data_images/17.xml',\n",
       " './data_images/16.xml',\n",
       " './data_images/13.xml',\n",
       " './data_images/11.xml',\n",
       " './data_images/39.xml',\n",
       " './data_images/38.xml',\n",
       " './data_images/10.xml',\n",
       " './data_images/21.xml',\n",
       " './data_images/35.xml',\n",
       " './data_images/34.xml',\n",
       " './data_images/20.xml',\n",
       " './data_images/36.xml',\n",
       " './data_images/22.xml',\n",
       " './data_images/23.xml',\n",
       " './data_images/37.xml',\n",
       " './data_images/33.xml',\n",
       " './data_images/27.xml',\n",
       " './data_images/26.xml',\n",
       " './data_images/32.xml',\n",
       " './data_images/24.xml',\n",
       " './data_images/30.xml',\n",
       " './data_images/18.xml',\n",
       " './data_images/19.xml',\n",
       " './data_images/31.xml',\n",
       " './data_images/25.xml',\n",
       " './data_images/42.xml',\n",
       " './data_images/4.xml',\n",
       " './data_images/5.xml',\n",
       " './data_images/43.xml',\n",
       " './data_images/7.xml',\n",
       " './data_images/41.xml',\n",
       " './data_images/40.xml',\n",
       " './data_images/6.xml',\n",
       " './data_images/2.xml',\n",
       " './data_images/44.xml',\n",
       " './data_images/45.xml',\n",
       " './data_images/3.xml',\n",
       " './data_images/47.xml',\n",
       " './data_images/1.xml',\n",
       " './data_images/46.xml']"
      ]
     },
     "execution_count": 6,
     "metadata": {},
     "output_type": "execute_result"
    }
   ],
   "source": [
    "xmlfiles"
   ]
  },
  {
   "cell_type": "code",
   "execution_count": 7,
   "id": "637406f6",
   "metadata": {},
   "outputs": [],
   "source": [
    "# step-2: read xml files\n",
    "# from each xml file we need to extract\n",
    "# filename, size(width, height), object(name, xmin, xmax, ymin, ymax)\n",
    "def extract_text(filename):\n",
    "    tree = et.parse(filename)\n",
    "    root = tree.getroot()\n",
    "\n",
    "    # extract filename\n",
    "    image_name = root.find('filename').text\n",
    "    # width and height of the image\n",
    "    width = root.find('size').find('width').text\n",
    "    height = root.find('size').find('height').text\n",
    "    objs = root.findall('object')\n",
    "    parser = []\n",
    "    for obj in objs:\n",
    "        name = obj.find('name').text\n",
    "        bndbox = obj.find('bndbox')\n",
    "        xmin = bndbox.find('xmin').text\n",
    "        xmax = bndbox.find('xmax').text\n",
    "        ymin = bndbox.find('ymin').text\n",
    "        ymax = bndbox.find('ymax').text\n",
    "        parser.append([image_name, width, height, name,xmin,xmax,ymin,ymax])\n",
    "        \n",
    "    return parser"
   ]
  },
  {
   "cell_type": "code",
   "execution_count": 8,
   "id": "8a56e31b",
   "metadata": {},
   "outputs": [],
   "source": [
    "parser_all = list(map(extract_text,xmlfiles))"
   ]
  },
  {
   "cell_type": "code",
   "execution_count": 9,
   "id": "c638a326",
   "metadata": {},
   "outputs": [],
   "source": [
    "data = reduce(lambda x, y : x+y,parser_all)"
   ]
  },
  {
   "cell_type": "code",
   "execution_count": 10,
   "id": "5b48c0a7",
   "metadata": {},
   "outputs": [],
   "source": [
    "df = pd.DataFrame(data,columns = ['filename','width','height','name','xmin','xmax','ymin','ymax'])"
   ]
  },
  {
   "cell_type": "code",
   "execution_count": 11,
   "id": "7129360a",
   "metadata": {},
   "outputs": [
    {
     "data": {
      "text/html": [
       "<div>\n",
       "<style scoped>\n",
       "    .dataframe tbody tr th:only-of-type {\n",
       "        vertical-align: middle;\n",
       "    }\n",
       "\n",
       "    .dataframe tbody tr th {\n",
       "        vertical-align: top;\n",
       "    }\n",
       "\n",
       "    .dataframe thead th {\n",
       "        text-align: right;\n",
       "    }\n",
       "</style>\n",
       "<table border=\"1\" class=\"dataframe\">\n",
       "  <thead>\n",
       "    <tr style=\"text-align: right;\">\n",
       "      <th></th>\n",
       "      <th>filename</th>\n",
       "      <th>width</th>\n",
       "      <th>height</th>\n",
       "      <th>name</th>\n",
       "      <th>xmin</th>\n",
       "      <th>xmax</th>\n",
       "      <th>ymin</th>\n",
       "      <th>ymax</th>\n",
       "    </tr>\n",
       "  </thead>\n",
       "  <tbody>\n",
       "    <tr>\n",
       "      <th>0</th>\n",
       "      <td>48.jpg</td>\n",
       "      <td>640</td>\n",
       "      <td>718</td>\n",
       "      <td>necklace</td>\n",
       "      <td>197</td>\n",
       "      <td>548</td>\n",
       "      <td>19</td>\n",
       "      <td>522</td>\n",
       "    </tr>\n",
       "    <tr>\n",
       "      <th>1</th>\n",
       "      <td>8.jpg</td>\n",
       "      <td>643</td>\n",
       "      <td>360</td>\n",
       "      <td>necklace</td>\n",
       "      <td>201</td>\n",
       "      <td>452</td>\n",
       "      <td>54</td>\n",
       "      <td>341</td>\n",
       "    </tr>\n",
       "    <tr>\n",
       "      <th>2</th>\n",
       "      <td>9.jpg</td>\n",
       "      <td>736</td>\n",
       "      <td>1308</td>\n",
       "      <td>necklace</td>\n",
       "      <td>99</td>\n",
       "      <td>211</td>\n",
       "      <td>127</td>\n",
       "      <td>403</td>\n",
       "    </tr>\n",
       "    <tr>\n",
       "      <th>3</th>\n",
       "      <td>9.jpg</td>\n",
       "      <td>736</td>\n",
       "      <td>1308</td>\n",
       "      <td>necklace</td>\n",
       "      <td>233</td>\n",
       "      <td>349</td>\n",
       "      <td>115</td>\n",
       "      <td>401</td>\n",
       "    </tr>\n",
       "    <tr>\n",
       "      <th>4</th>\n",
       "      <td>9.jpg</td>\n",
       "      <td>736</td>\n",
       "      <td>1308</td>\n",
       "      <td>necklace</td>\n",
       "      <td>355</td>\n",
       "      <td>497</td>\n",
       "      <td>100</td>\n",
       "      <td>443</td>\n",
       "    </tr>\n",
       "  </tbody>\n",
       "</table>\n",
       "</div>"
      ],
      "text/plain": [
       "  filename width height      name xmin xmax ymin ymax\n",
       "0   48.jpg   640    718  necklace  197  548   19  522\n",
       "1    8.jpg   643    360  necklace  201  452   54  341\n",
       "2    9.jpg   736   1308  necklace   99  211  127  403\n",
       "3    9.jpg   736   1308  necklace  233  349  115  401\n",
       "4    9.jpg   736   1308  necklace  355  497  100  443"
      ]
     },
     "execution_count": 11,
     "metadata": {},
     "output_type": "execute_result"
    }
   ],
   "source": [
    "df.head()"
   ]
  },
  {
   "cell_type": "code",
   "execution_count": 12,
   "id": "f85e4ba4",
   "metadata": {},
   "outputs": [
    {
     "data": {
      "text/plain": [
       "(82, 8)"
      ]
     },
     "execution_count": 12,
     "metadata": {},
     "output_type": "execute_result"
    }
   ],
   "source": [
    "df.shape"
   ]
  },
  {
   "cell_type": "code",
   "execution_count": 13,
   "id": "4c7549c4",
   "metadata": {},
   "outputs": [
    {
     "data": {
      "text/plain": [
       "name\n",
       "necklace    82\n",
       "Name: count, dtype: int64"
      ]
     },
     "execution_count": 13,
     "metadata": {},
     "output_type": "execute_result"
    }
   ],
   "source": [
    "df['name'].value_counts()"
   ]
  },
  {
   "attachments": {
    "image-2.png": {
     "image/png": "[encoded data removed]"
    }
   },
   "cell_type": "markdown",
   "id": "1cb15854",
   "metadata": {},
   "source": [
    "#### Conversion\n",
    "![image-2.png](attachment:image-2.png)"
   ]
  },
  {
   "cell_type": "code",
   "execution_count": 14,
   "id": "0d2ca3d1",
   "metadata": {},
   "outputs": [
    {
     "name": "stdout",
     "output_type": "stream",
     "text": [
      "<class 'pandas.core.frame.DataFrame'>\n",
      "RangeIndex: 82 entries, 0 to 81\n",
      "Data columns (total 8 columns):\n",
      " #   Column    Non-Null Count  Dtype \n",
      "---  ------    --------------  ----- \n",
      " 0   filename  82 non-null     object\n",
      " 1   width     82 non-null     object\n",
      " 2   height    82 non-null     object\n",
      " 3   name      82 non-null     object\n",
      " 4   xmin      82 non-null     object\n",
      " 5   xmax      82 non-null     object\n",
      " 6   ymin      82 non-null     object\n",
      " 7   ymax      82 non-null     object\n",
      "dtypes: object(8)\n",
      "memory usage: 5.3+ KB\n"
     ]
    }
   ],
   "source": [
    "df.info()"
   ]
  },
  {
   "cell_type": "code",
   "execution_count": 15,
   "id": "66662853",
   "metadata": {},
   "outputs": [
    {
     "name": "stdout",
     "output_type": "stream",
     "text": [
      "<class 'pandas.core.frame.DataFrame'>\n",
      "RangeIndex: 82 entries, 0 to 81\n",
      "Data columns (total 8 columns):\n",
      " #   Column    Non-Null Count  Dtype \n",
      "---  ------    --------------  ----- \n",
      " 0   filename  82 non-null     object\n",
      " 1   width     82 non-null     int64 \n",
      " 2   height    82 non-null     int64 \n",
      " 3   name      82 non-null     object\n",
      " 4   xmin      82 non-null     int64 \n",
      " 5   xmax      82 non-null     int64 \n",
      " 6   ymin      82 non-null     int64 \n",
      " 7   ymax      82 non-null     int64 \n",
      "dtypes: int64(6), object(2)\n",
      "memory usage: 5.3+ KB\n"
     ]
    }
   ],
   "source": [
    "# type conversion\n",
    "cols = ['width','height','xmin','xmax','ymin','ymax']\n",
    "df[cols] = df[cols].astype(int)\n",
    "df.info()"
   ]
  },
  {
   "cell_type": "code",
   "execution_count": 16,
   "id": "4bac6ec8",
   "metadata": {},
   "outputs": [],
   "source": [
    "# center x, center y\n",
    "df['center_x'] = ((df['xmax']+df['xmin'])/2)/df['width']\n",
    "df['center_y'] = ((df['ymax']+df['ymin'])/2)/df['height']\n",
    "# w \n",
    "df['w'] = (df['xmax']-df['xmin'])/df['width']\n",
    "# h \n",
    "df['h'] = (df['ymax']-df['ymin'])/df['height']"
   ]
  },
  {
   "cell_type": "code",
   "execution_count": 17,
   "id": "8c88f35d",
   "metadata": {},
   "outputs": [
    {
     "data": {
      "text/html": [
       "<div>\n",
       "<style scoped>\n",
       "    .dataframe tbody tr th:only-of-type {\n",
       "        vertical-align: middle;\n",
       "    }\n",
       "\n",
       "    .dataframe tbody tr th {\n",
       "        vertical-align: top;\n",
       "    }\n",
       "\n",
       "    .dataframe thead th {\n",
       "        text-align: right;\n",
       "    }\n",
       "</style>\n",
       "<table border=\"1\" class=\"dataframe\">\n",
       "  <thead>\n",
       "    <tr style=\"text-align: right;\">\n",
       "      <th></th>\n",
       "      <th>filename</th>\n",
       "      <th>width</th>\n",
       "      <th>height</th>\n",
       "      <th>name</th>\n",
       "      <th>xmin</th>\n",
       "      <th>xmax</th>\n",
       "      <th>ymin</th>\n",
       "      <th>ymax</th>\n",
       "      <th>center_x</th>\n",
       "      <th>center_y</th>\n",
       "      <th>w</th>\n",
       "      <th>h</th>\n",
       "    </tr>\n",
       "  </thead>\n",
       "  <tbody>\n",
       "    <tr>\n",
       "      <th>0</th>\n",
       "      <td>48.jpg</td>\n",
       "      <td>640</td>\n",
       "      <td>718</td>\n",
       "      <td>necklace</td>\n",
       "      <td>197</td>\n",
       "      <td>548</td>\n",
       "      <td>19</td>\n",
       "      <td>522</td>\n",
       "      <td>0.582031</td>\n",
       "      <td>0.376741</td>\n",
       "      <td>0.548438</td>\n",
       "      <td>0.700557</td>\n",
       "    </tr>\n",
       "    <tr>\n",
       "      <th>1</th>\n",
       "      <td>8.jpg</td>\n",
       "      <td>643</td>\n",
       "      <td>360</td>\n",
       "      <td>necklace</td>\n",
       "      <td>201</td>\n",
       "      <td>452</td>\n",
       "      <td>54</td>\n",
       "      <td>341</td>\n",
       "      <td>0.507776</td>\n",
       "      <td>0.548611</td>\n",
       "      <td>0.390358</td>\n",
       "      <td>0.797222</td>\n",
       "    </tr>\n",
       "    <tr>\n",
       "      <th>2</th>\n",
       "      <td>9.jpg</td>\n",
       "      <td>736</td>\n",
       "      <td>1308</td>\n",
       "      <td>necklace</td>\n",
       "      <td>99</td>\n",
       "      <td>211</td>\n",
       "      <td>127</td>\n",
       "      <td>403</td>\n",
       "      <td>0.210598</td>\n",
       "      <td>0.202599</td>\n",
       "      <td>0.152174</td>\n",
       "      <td>0.211009</td>\n",
       "    </tr>\n",
       "    <tr>\n",
       "      <th>3</th>\n",
       "      <td>9.jpg</td>\n",
       "      <td>736</td>\n",
       "      <td>1308</td>\n",
       "      <td>necklace</td>\n",
       "      <td>233</td>\n",
       "      <td>349</td>\n",
       "      <td>115</td>\n",
       "      <td>401</td>\n",
       "      <td>0.395380</td>\n",
       "      <td>0.197248</td>\n",
       "      <td>0.157609</td>\n",
       "      <td>0.218654</td>\n",
       "    </tr>\n",
       "    <tr>\n",
       "      <th>4</th>\n",
       "      <td>9.jpg</td>\n",
       "      <td>736</td>\n",
       "      <td>1308</td>\n",
       "      <td>necklace</td>\n",
       "      <td>355</td>\n",
       "      <td>497</td>\n",
       "      <td>100</td>\n",
       "      <td>443</td>\n",
       "      <td>0.578804</td>\n",
       "      <td>0.207569</td>\n",
       "      <td>0.192935</td>\n",
       "      <td>0.262232</td>\n",
       "    </tr>\n",
       "  </tbody>\n",
       "</table>\n",
       "</div>"
      ],
      "text/plain": [
       "  filename  width  height      name  xmin  xmax  ymin  ymax  center_x  \\\n",
       "0   48.jpg    640     718  necklace   197   548    19   522  0.582031   \n",
       "1    8.jpg    643     360  necklace   201   452    54   341  0.507776   \n",
       "2    9.jpg    736    1308  necklace    99   211   127   403  0.210598   \n",
       "3    9.jpg    736    1308  necklace   233   349   115   401  0.395380   \n",
       "4    9.jpg    736    1308  necklace   355   497   100   443  0.578804   \n",
       "\n",
       "   center_y         w         h  \n",
       "0  0.376741  0.548438  0.700557  \n",
       "1  0.548611  0.390358  0.797222  \n",
       "2  0.202599  0.152174  0.211009  \n",
       "3  0.197248  0.157609  0.218654  \n",
       "4  0.207569  0.192935  0.262232  "
      ]
     },
     "execution_count": 17,
     "metadata": {},
     "output_type": "execute_result"
    }
   ],
   "source": [
    "df.head()"
   ]
  },
  {
   "cell_type": "markdown",
   "id": "9a5fdf0b",
   "metadata": {},
   "source": [
    "### split data into train and test"
   ]
  },
  {
   "cell_type": "code",
   "execution_count": 18,
   "id": "34418a9f",
   "metadata": {},
   "outputs": [],
   "source": [
    "images = df['filename'].unique()"
   ]
  },
  {
   "cell_type": "code",
   "execution_count": 19,
   "id": "97f2ac70",
   "metadata": {},
   "outputs": [
    {
     "data": {
      "text/plain": [
       "47"
      ]
     },
     "execution_count": 19,
     "metadata": {},
     "output_type": "execute_result"
    }
   ],
   "source": [
    "len(images)"
   ]
  },
  {
   "cell_type": "code",
   "execution_count": 20,
   "id": "ae015555",
   "metadata": {},
   "outputs": [],
   "source": [
    "# 80% train and 20% test\n",
    "img_df = pd.DataFrame(images,columns=['filename'])\n",
    "img_train = tuple(img_df.sample(frac=0.8)['filename']) # shuffle and pick 80% of images"
   ]
  },
  {
   "cell_type": "code",
   "execution_count": 21,
   "id": "6afd160f",
   "metadata": {},
   "outputs": [],
   "source": [
    "img_test = tuple(img_df.query(f'filename not in {img_train}')['filename']) # take rest 20% images"
   ]
  },
  {
   "cell_type": "code",
   "execution_count": 22,
   "id": "17febae7",
   "metadata": {},
   "outputs": [
    {
     "data": {
      "text/plain": [
       "(38, 9)"
      ]
     },
     "execution_count": 22,
     "metadata": {},
     "output_type": "execute_result"
    }
   ],
   "source": [
    "len(img_train), len(img_test)"
   ]
  },
  {
   "cell_type": "code",
   "execution_count": 23,
   "id": "f7f4614c",
   "metadata": {},
   "outputs": [],
   "source": [
    "train_df = df.query(f'filename in {img_train}')\n",
    "test_df = df.query(f'filename in {img_test}')"
   ]
  },
  {
   "cell_type": "code",
   "execution_count": 24,
   "id": "cf16e06f",
   "metadata": {},
   "outputs": [
    {
     "data": {
      "text/html": [
       "<div>\n",
       "<style scoped>\n",
       "    .dataframe tbody tr th:only-of-type {\n",
       "        vertical-align: middle;\n",
       "    }\n",
       "\n",
       "    .dataframe tbody tr th {\n",
       "        vertical-align: top;\n",
       "    }\n",
       "\n",
       "    .dataframe thead th {\n",
       "        text-align: right;\n",
       "    }\n",
       "</style>\n",
       "<table border=\"1\" class=\"dataframe\">\n",
       "  <thead>\n",
       "    <tr style=\"text-align: right;\">\n",
       "      <th></th>\n",
       "      <th>filename</th>\n",
       "      <th>width</th>\n",
       "      <th>height</th>\n",
       "      <th>name</th>\n",
       "      <th>xmin</th>\n",
       "      <th>xmax</th>\n",
       "      <th>ymin</th>\n",
       "      <th>ymax</th>\n",
       "      <th>center_x</th>\n",
       "      <th>center_y</th>\n",
       "      <th>w</th>\n",
       "      <th>h</th>\n",
       "    </tr>\n",
       "  </thead>\n",
       "  <tbody>\n",
       "    <tr>\n",
       "      <th>1</th>\n",
       "      <td>8.jpg</td>\n",
       "      <td>643</td>\n",
       "      <td>360</td>\n",
       "      <td>necklace</td>\n",
       "      <td>201</td>\n",
       "      <td>452</td>\n",
       "      <td>54</td>\n",
       "      <td>341</td>\n",
       "      <td>0.507776</td>\n",
       "      <td>0.548611</td>\n",
       "      <td>0.390358</td>\n",
       "      <td>0.797222</td>\n",
       "    </tr>\n",
       "    <tr>\n",
       "      <th>2</th>\n",
       "      <td>9.jpg</td>\n",
       "      <td>736</td>\n",
       "      <td>1308</td>\n",
       "      <td>necklace</td>\n",
       "      <td>99</td>\n",
       "      <td>211</td>\n",
       "      <td>127</td>\n",
       "      <td>403</td>\n",
       "      <td>0.210598</td>\n",
       "      <td>0.202599</td>\n",
       "      <td>0.152174</td>\n",
       "      <td>0.211009</td>\n",
       "    </tr>\n",
       "    <tr>\n",
       "      <th>3</th>\n",
       "      <td>9.jpg</td>\n",
       "      <td>736</td>\n",
       "      <td>1308</td>\n",
       "      <td>necklace</td>\n",
       "      <td>233</td>\n",
       "      <td>349</td>\n",
       "      <td>115</td>\n",
       "      <td>401</td>\n",
       "      <td>0.395380</td>\n",
       "      <td>0.197248</td>\n",
       "      <td>0.157609</td>\n",
       "      <td>0.218654</td>\n",
       "    </tr>\n",
       "    <tr>\n",
       "      <th>4</th>\n",
       "      <td>9.jpg</td>\n",
       "      <td>736</td>\n",
       "      <td>1308</td>\n",
       "      <td>necklace</td>\n",
       "      <td>355</td>\n",
       "      <td>497</td>\n",
       "      <td>100</td>\n",
       "      <td>443</td>\n",
       "      <td>0.578804</td>\n",
       "      <td>0.207569</td>\n",
       "      <td>0.192935</td>\n",
       "      <td>0.262232</td>\n",
       "    </tr>\n",
       "    <tr>\n",
       "      <th>5</th>\n",
       "      <td>9.jpg</td>\n",
       "      <td>736</td>\n",
       "      <td>1308</td>\n",
       "      <td>necklace</td>\n",
       "      <td>519</td>\n",
       "      <td>675</td>\n",
       "      <td>78</td>\n",
       "      <td>416</td>\n",
       "      <td>0.811141</td>\n",
       "      <td>0.188838</td>\n",
       "      <td>0.211957</td>\n",
       "      <td>0.258410</td>\n",
       "    </tr>\n",
       "  </tbody>\n",
       "</table>\n",
       "</div>"
      ],
      "text/plain": [
       "  filename  width  height      name  xmin  xmax  ymin  ymax  center_x  \\\n",
       "1    8.jpg    643     360  necklace   201   452    54   341  0.507776   \n",
       "2    9.jpg    736    1308  necklace    99   211   127   403  0.210598   \n",
       "3    9.jpg    736    1308  necklace   233   349   115   401  0.395380   \n",
       "4    9.jpg    736    1308  necklace   355   497   100   443  0.578804   \n",
       "5    9.jpg    736    1308  necklace   519   675    78   416  0.811141   \n",
       "\n",
       "   center_y         w         h  \n",
       "1  0.548611  0.390358  0.797222  \n",
       "2  0.202599  0.152174  0.211009  \n",
       "3  0.197248  0.157609  0.218654  \n",
       "4  0.207569  0.192935  0.262232  \n",
       "5  0.188838  0.211957  0.258410  "
      ]
     },
     "execution_count": 24,
     "metadata": {},
     "output_type": "execute_result"
    }
   ],
   "source": [
    "train_df.head()"
   ]
  },
  {
   "cell_type": "code",
   "execution_count": 25,
   "id": "e7fd6da5",
   "metadata": {},
   "outputs": [
    {
     "data": {
      "text/html": [
       "<div>\n",
       "<style scoped>\n",
       "    .dataframe tbody tr th:only-of-type {\n",
       "        vertical-align: middle;\n",
       "    }\n",
       "\n",
       "    .dataframe tbody tr th {\n",
       "        vertical-align: top;\n",
       "    }\n",
       "\n",
       "    .dataframe thead th {\n",
       "        text-align: right;\n",
       "    }\n",
       "</style>\n",
       "<table border=\"1\" class=\"dataframe\">\n",
       "  <thead>\n",
       "    <tr style=\"text-align: right;\">\n",
       "      <th></th>\n",
       "      <th>filename</th>\n",
       "      <th>width</th>\n",
       "      <th>height</th>\n",
       "      <th>name</th>\n",
       "      <th>xmin</th>\n",
       "      <th>xmax</th>\n",
       "      <th>ymin</th>\n",
       "      <th>ymax</th>\n",
       "      <th>center_x</th>\n",
       "      <th>center_y</th>\n",
       "      <th>w</th>\n",
       "      <th>h</th>\n",
       "    </tr>\n",
       "  </thead>\n",
       "  <tbody>\n",
       "    <tr>\n",
       "      <th>0</th>\n",
       "      <td>48.jpg</td>\n",
       "      <td>640</td>\n",
       "      <td>718</td>\n",
       "      <td>necklace</td>\n",
       "      <td>197</td>\n",
       "      <td>548</td>\n",
       "      <td>19</td>\n",
       "      <td>522</td>\n",
       "      <td>0.582031</td>\n",
       "      <td>0.376741</td>\n",
       "      <td>0.548438</td>\n",
       "      <td>0.700557</td>\n",
       "    </tr>\n",
       "    <tr>\n",
       "      <th>19</th>\n",
       "      <td>16.jpeg</td>\n",
       "      <td>581</td>\n",
       "      <td>1032</td>\n",
       "      <td>necklace</td>\n",
       "      <td>129</td>\n",
       "      <td>455</td>\n",
       "      <td>6</td>\n",
       "      <td>995</td>\n",
       "      <td>0.502582</td>\n",
       "      <td>0.484981</td>\n",
       "      <td>0.561102</td>\n",
       "      <td>0.958333</td>\n",
       "    </tr>\n",
       "    <tr>\n",
       "      <th>21</th>\n",
       "      <td>11.jpg</td>\n",
       "      <td>1280</td>\n",
       "      <td>720</td>\n",
       "      <td>necklace</td>\n",
       "      <td>16</td>\n",
       "      <td>572</td>\n",
       "      <td>2</td>\n",
       "      <td>701</td>\n",
       "      <td>0.229687</td>\n",
       "      <td>0.488194</td>\n",
       "      <td>0.434375</td>\n",
       "      <td>0.970833</td>\n",
       "    </tr>\n",
       "    <tr>\n",
       "      <th>22</th>\n",
       "      <td>11.jpg</td>\n",
       "      <td>1280</td>\n",
       "      <td>720</td>\n",
       "      <td>necklace</td>\n",
       "      <td>701</td>\n",
       "      <td>1145</td>\n",
       "      <td>3</td>\n",
       "      <td>694</td>\n",
       "      <td>0.721094</td>\n",
       "      <td>0.484028</td>\n",
       "      <td>0.346875</td>\n",
       "      <td>0.959722</td>\n",
       "    </tr>\n",
       "    <tr>\n",
       "      <th>40</th>\n",
       "      <td>36.jpg</td>\n",
       "      <td>541</td>\n",
       "      <td>919</td>\n",
       "      <td>necklace</td>\n",
       "      <td>186</td>\n",
       "      <td>398</td>\n",
       "      <td>274</td>\n",
       "      <td>613</td>\n",
       "      <td>0.539741</td>\n",
       "      <td>0.482590</td>\n",
       "      <td>0.391867</td>\n",
       "      <td>0.368879</td>\n",
       "    </tr>\n",
       "  </tbody>\n",
       "</table>\n",
       "</div>"
      ],
      "text/plain": [
       "   filename  width  height      name  xmin  xmax  ymin  ymax  center_x  \\\n",
       "0    48.jpg    640     718  necklace   197   548    19   522  0.582031   \n",
       "19  16.jpeg    581    1032  necklace   129   455     6   995  0.502582   \n",
       "21   11.jpg   1280     720  necklace    16   572     2   701  0.229687   \n",
       "22   11.jpg   1280     720  necklace   701  1145     3   694  0.721094   \n",
       "40   36.jpg    541     919  necklace   186   398   274   613  0.539741   \n",
       "\n",
       "    center_y         w         h  \n",
       "0   0.376741  0.548438  0.700557  \n",
       "19  0.484981  0.561102  0.958333  \n",
       "21  0.488194  0.434375  0.970833  \n",
       "22  0.484028  0.346875  0.959722  \n",
       "40  0.482590  0.391867  0.368879  "
      ]
     },
     "execution_count": 25,
     "metadata": {},
     "output_type": "execute_result"
    }
   ],
   "source": [
    "test_df.head()"
   ]
  },
  {
   "cell_type": "markdown",
   "id": "3ec8e06a",
   "metadata": {},
   "source": [
    "### Assign id number to object names"
   ]
  },
  {
   "cell_type": "code",
   "execution_count": 26,
   "id": "f5663855",
   "metadata": {},
   "outputs": [],
   "source": [
    "# label encoding\n",
    "def label_encoding(x):\n",
    "    labels = {'necklace':0}\n",
    "    return labels[x]"
   ]
  },
  {
   "cell_type": "code",
   "execution_count": 27,
   "id": "8097e42b",
   "metadata": {},
   "outputs": [],
   "source": [
    "train_df['id'] = train_df['name'].apply(label_encoding)\n",
    "test_df['id'] = test_df['name'].apply(label_encoding)"
   ]
  },
  {
   "cell_type": "code",
   "execution_count": 28,
   "id": "c478fd7d",
   "metadata": {},
   "outputs": [
    {
     "data": {
      "text/html": [
       "<div>\n",
       "<style scoped>\n",
       "    .dataframe tbody tr th:only-of-type {\n",
       "        vertical-align: middle;\n",
       "    }\n",
       "\n",
       "    .dataframe tbody tr th {\n",
       "        vertical-align: top;\n",
       "    }\n",
       "\n",
       "    .dataframe thead th {\n",
       "        text-align: right;\n",
       "    }\n",
       "</style>\n",
       "<table border=\"1\" class=\"dataframe\">\n",
       "  <thead>\n",
       "    <tr style=\"text-align: right;\">\n",
       "      <th></th>\n",
       "      <th>filename</th>\n",
       "      <th>width</th>\n",
       "      <th>height</th>\n",
       "      <th>name</th>\n",
       "      <th>xmin</th>\n",
       "      <th>xmax</th>\n",
       "      <th>ymin</th>\n",
       "      <th>ymax</th>\n",
       "      <th>center_x</th>\n",
       "      <th>center_y</th>\n",
       "      <th>w</th>\n",
       "      <th>h</th>\n",
       "      <th>id</th>\n",
       "    </tr>\n",
       "  </thead>\n",
       "  <tbody>\n",
       "    <tr>\n",
       "      <th>1</th>\n",
       "      <td>8.jpg</td>\n",
       "      <td>643</td>\n",
       "      <td>360</td>\n",
       "      <td>necklace</td>\n",
       "      <td>201</td>\n",
       "      <td>452</td>\n",
       "      <td>54</td>\n",
       "      <td>341</td>\n",
       "      <td>0.507776</td>\n",
       "      <td>0.548611</td>\n",
       "      <td>0.390358</td>\n",
       "      <td>0.797222</td>\n",
       "      <td>0</td>\n",
       "    </tr>\n",
       "    <tr>\n",
       "      <th>2</th>\n",
       "      <td>9.jpg</td>\n",
       "      <td>736</td>\n",
       "      <td>1308</td>\n",
       "      <td>necklace</td>\n",
       "      <td>99</td>\n",
       "      <td>211</td>\n",
       "      <td>127</td>\n",
       "      <td>403</td>\n",
       "      <td>0.210598</td>\n",
       "      <td>0.202599</td>\n",
       "      <td>0.152174</td>\n",
       "      <td>0.211009</td>\n",
       "      <td>0</td>\n",
       "    </tr>\n",
       "    <tr>\n",
       "      <th>3</th>\n",
       "      <td>9.jpg</td>\n",
       "      <td>736</td>\n",
       "      <td>1308</td>\n",
       "      <td>necklace</td>\n",
       "      <td>233</td>\n",
       "      <td>349</td>\n",
       "      <td>115</td>\n",
       "      <td>401</td>\n",
       "      <td>0.395380</td>\n",
       "      <td>0.197248</td>\n",
       "      <td>0.157609</td>\n",
       "      <td>0.218654</td>\n",
       "      <td>0</td>\n",
       "    </tr>\n",
       "    <tr>\n",
       "      <th>4</th>\n",
       "      <td>9.jpg</td>\n",
       "      <td>736</td>\n",
       "      <td>1308</td>\n",
       "      <td>necklace</td>\n",
       "      <td>355</td>\n",
       "      <td>497</td>\n",
       "      <td>100</td>\n",
       "      <td>443</td>\n",
       "      <td>0.578804</td>\n",
       "      <td>0.207569</td>\n",
       "      <td>0.192935</td>\n",
       "      <td>0.262232</td>\n",
       "      <td>0</td>\n",
       "    </tr>\n",
       "    <tr>\n",
       "      <th>5</th>\n",
       "      <td>9.jpg</td>\n",
       "      <td>736</td>\n",
       "      <td>1308</td>\n",
       "      <td>necklace</td>\n",
       "      <td>519</td>\n",
       "      <td>675</td>\n",
       "      <td>78</td>\n",
       "      <td>416</td>\n",
       "      <td>0.811141</td>\n",
       "      <td>0.188838</td>\n",
       "      <td>0.211957</td>\n",
       "      <td>0.258410</td>\n",
       "      <td>0</td>\n",
       "    </tr>\n",
       "    <tr>\n",
       "      <th>6</th>\n",
       "      <td>9.jpg</td>\n",
       "      <td>736</td>\n",
       "      <td>1308</td>\n",
       "      <td>necklace</td>\n",
       "      <td>94</td>\n",
       "      <td>209</td>\n",
       "      <td>450</td>\n",
       "      <td>765</td>\n",
       "      <td>0.205842</td>\n",
       "      <td>0.464450</td>\n",
       "      <td>0.156250</td>\n",
       "      <td>0.240826</td>\n",
       "      <td>0</td>\n",
       "    </tr>\n",
       "    <tr>\n",
       "      <th>7</th>\n",
       "      <td>9.jpg</td>\n",
       "      <td>736</td>\n",
       "      <td>1308</td>\n",
       "      <td>necklace</td>\n",
       "      <td>226</td>\n",
       "      <td>350</td>\n",
       "      <td>453</td>\n",
       "      <td>768</td>\n",
       "      <td>0.391304</td>\n",
       "      <td>0.466743</td>\n",
       "      <td>0.168478</td>\n",
       "      <td>0.240826</td>\n",
       "      <td>0</td>\n",
       "    </tr>\n",
       "    <tr>\n",
       "      <th>8</th>\n",
       "      <td>9.jpg</td>\n",
       "      <td>736</td>\n",
       "      <td>1308</td>\n",
       "      <td>necklace</td>\n",
       "      <td>367</td>\n",
       "      <td>491</td>\n",
       "      <td>456</td>\n",
       "      <td>778</td>\n",
       "      <td>0.582880</td>\n",
       "      <td>0.471713</td>\n",
       "      <td>0.168478</td>\n",
       "      <td>0.246177</td>\n",
       "      <td>0</td>\n",
       "    </tr>\n",
       "    <tr>\n",
       "      <th>9</th>\n",
       "      <td>9.jpg</td>\n",
       "      <td>736</td>\n",
       "      <td>1308</td>\n",
       "      <td>necklace</td>\n",
       "      <td>504</td>\n",
       "      <td>658</td>\n",
       "      <td>453</td>\n",
       "      <td>774</td>\n",
       "      <td>0.789402</td>\n",
       "      <td>0.469037</td>\n",
       "      <td>0.209239</td>\n",
       "      <td>0.245413</td>\n",
       "      <td>0</td>\n",
       "    </tr>\n",
       "    <tr>\n",
       "      <th>10</th>\n",
       "      <td>9.jpg</td>\n",
       "      <td>736</td>\n",
       "      <td>1308</td>\n",
       "      <td>necklace</td>\n",
       "      <td>52</td>\n",
       "      <td>194</td>\n",
       "      <td>774</td>\n",
       "      <td>1073</td>\n",
       "      <td>0.167120</td>\n",
       "      <td>0.706040</td>\n",
       "      <td>0.192935</td>\n",
       "      <td>0.228593</td>\n",
       "      <td>0</td>\n",
       "    </tr>\n",
       "  </tbody>\n",
       "</table>\n",
       "</div>"
      ],
      "text/plain": [
       "   filename  width  height      name  xmin  xmax  ymin  ymax  center_x  \\\n",
       "1     8.jpg    643     360  necklace   201   452    54   341  0.507776   \n",
       "2     9.jpg    736    1308  necklace    99   211   127   403  0.210598   \n",
       "3     9.jpg    736    1308  necklace   233   349   115   401  0.395380   \n",
       "4     9.jpg    736    1308  necklace   355   497   100   443  0.578804   \n",
       "5     9.jpg    736    1308  necklace   519   675    78   416  0.811141   \n",
       "6     9.jpg    736    1308  necklace    94   209   450   765  0.205842   \n",
       "7     9.jpg    736    1308  necklace   226   350   453   768  0.391304   \n",
       "8     9.jpg    736    1308  necklace   367   491   456   778  0.582880   \n",
       "9     9.jpg    736    1308  necklace   504   658   453   774  0.789402   \n",
       "10    9.jpg    736    1308  necklace    52   194   774  1073  0.167120   \n",
       "\n",
       "    center_y         w         h  id  \n",
       "1   0.548611  0.390358  0.797222   0  \n",
       "2   0.202599  0.152174  0.211009   0  \n",
       "3   0.197248  0.157609  0.218654   0  \n",
       "4   0.207569  0.192935  0.262232   0  \n",
       "5   0.188838  0.211957  0.258410   0  \n",
       "6   0.464450  0.156250  0.240826   0  \n",
       "7   0.466743  0.168478  0.240826   0  \n",
       "8   0.471713  0.168478  0.246177   0  \n",
       "9   0.469037  0.209239  0.245413   0  \n",
       "10  0.706040  0.192935  0.228593   0  "
      ]
     },
     "execution_count": 28,
     "metadata": {},
     "output_type": "execute_result"
    }
   ],
   "source": [
    "train_df.head(10)"
   ]
  },
  {
   "cell_type": "markdown",
   "id": "30fe6661",
   "metadata": {},
   "source": [
    "### Save Image and Labels in text"
   ]
  },
  {
   "cell_type": "code",
   "execution_count": 29,
   "id": "1b593e59",
   "metadata": {},
   "outputs": [],
   "source": [
    "import os\n",
    "from shutil import move"
   ]
  },
  {
   "cell_type": "code",
   "execution_count": 30,
   "id": "c6202068",
   "metadata": {},
   "outputs": [],
   "source": [
    "train_folder = 'data_images/train'\n",
    "test_folder = 'data_images/test'\n",
    "\n",
    "\n",
    "os.mkdir(train_folder)\n",
    "os.mkdir(test_folder)"
   ]
  },
  {
   "cell_type": "code",
   "execution_count": 31,
   "id": "08369130",
   "metadata": {},
   "outputs": [],
   "source": [
    "cols = ['filename','id','center_x','center_y', 'w', 'h']\n",
    "groupby_obj_train = train_df[cols].groupby('filename')\n",
    "groupby_obj_test = test_df[cols].groupby('filename')"
   ]
  },
  {
   "cell_type": "code",
   "execution_count": 32,
   "id": "5ffc04f3",
   "metadata": {},
   "outputs": [],
   "source": [
    "#groupby_obj_train.get_group('000009.jpg').set_index('filename').to_csv('sample.txt',index=False,header=False)\n",
    "# save each image in train/test folder and repective labels in .txt\n",
    "def save_data(filename, folder_path, group_obj):\n",
    "    # move image\n",
    "    src = os.path.join('data_images',filename)\n",
    "    dst = os.path.join(folder_path,filename)\n",
    "    move(src,dst) # move image to the destination folder\n",
    "    \n",
    "    # save the labels\n",
    "    text_filename = os.path.join(folder_path,\n",
    "                                 os.path.splitext(filename)[0]+'.txt')\n",
    "    group_obj.get_group(filename).set_index('filename').to_csv(text_filename,sep=' ',index=False,header=False)\n",
    "    "
   ]
  },
  {
   "cell_type": "code",
   "execution_count": 33,
   "id": "6481e93d",
   "metadata": {},
   "outputs": [],
   "source": [
    "filename_series = pd.Series(groupby_obj_train.groups.keys())"
   ]
  },
  {
   "cell_type": "code",
   "execution_count": 34,
   "id": "b132cf21",
   "metadata": {},
   "outputs": [
    {
     "data": {
      "text/plain": [
       "0     None\n",
       "1     None\n",
       "2     None\n",
       "3     None\n",
       "4     None\n",
       "5     None\n",
       "6     None\n",
       "7     None\n",
       "8     None\n",
       "9     None\n",
       "10    None\n",
       "11    None\n",
       "12    None\n",
       "13    None\n",
       "14    None\n",
       "15    None\n",
       "16    None\n",
       "17    None\n",
       "18    None\n",
       "19    None\n",
       "20    None\n",
       "21    None\n",
       "22    None\n",
       "23    None\n",
       "24    None\n",
       "25    None\n",
       "26    None\n",
       "27    None\n",
       "28    None\n",
       "29    None\n",
       "30    None\n",
       "31    None\n",
       "32    None\n",
       "33    None\n",
       "34    None\n",
       "35    None\n",
       "36    None\n",
       "37    None\n",
       "dtype: object"
      ]
     },
     "execution_count": 34,
     "metadata": {},
     "output_type": "execute_result"
    }
   ],
   "source": [
    "filename_series.apply(save_data,args=(train_folder,groupby_obj_train))"
   ]
  },
  {
   "cell_type": "code",
   "execution_count": null,
   "id": "51f1f18e",
   "metadata": {},
   "outputs": [],
   "source": []
  },
  {
   "cell_type": "code",
   "execution_count": 35,
   "id": "b4ae7a09",
   "metadata": {},
   "outputs": [
    {
     "data": {
      "text/plain": [
       "0    None\n",
       "1    None\n",
       "2    None\n",
       "3    None\n",
       "4    None\n",
       "5    None\n",
       "6    None\n",
       "7    None\n",
       "8    None\n",
       "dtype: object"
      ]
     },
     "execution_count": 35,
     "metadata": {},
     "output_type": "execute_result"
    }
   ],
   "source": [
    "filename_series_test = pd.Series(groupby_obj_test.groups.keys())\n",
    "filename_series_test.apply(save_data,args=(test_folder,groupby_obj_test))"
   ]
  },
  {
   "cell_type": "code",
   "execution_count": null,
   "id": "d3bb9928",
   "metadata": {},
   "outputs": [],
   "source": []
  },
  {
   "cell_type": "code",
   "execution_count": null,
   "id": "f525f7bf",
   "metadata": {},
   "outputs": [],
   "source": []
  },
  {
   "cell_type": "code",
   "execution_count": null,
   "id": "ccf2ace1",
   "metadata": {},
   "outputs": [],
   "source": []
  },
  {
   "cell_type": "code",
   "execution_count": null,
   "id": "5ee3c30e",
   "metadata": {},
   "outputs": [],
   "source": []
  },
  {
   "cell_type": "code",
   "execution_count": null,
   "id": "9398b27e",
   "metadata": {},
   "outputs": [],
   "source": []
  },
  {
   "cell_type": "code",
   "execution_count": null,
   "id": "8d6c834a",
   "metadata": {},
   "outputs": [],
   "source": []
  },
  {
   "cell_type": "code",
   "execution_count": null,
   "id": "296fe986",
   "metadata": {},
   "outputs": [],
   "source": []
  },
  {
   "cell_type": "code",
   "execution_count": null,
   "id": "2fb89e8a",
   "metadata": {},
   "outputs": [],
   "source": []
  },
  {
   "cell_type": "code",
   "execution_count": null,
   "id": "d66fd254",
   "metadata": {},
   "outputs": [],
   "source": []
  },
  {
   "cell_type": "code",
   "execution_count": null,
   "id": "08f5e8f2",
   "metadata": {},
   "outputs": [],
   "source": []
  },
  {
   "cell_type": "code",
   "execution_count": null,
   "id": "967db8d8",
   "metadata": {},
   "outputs": [],
   "source": []
  }
 ],
 "metadata": {
  "kernelspec": {
   "display_name": "Python 3 (ipykernel)",
   "language": "python",
   "name": "python3"
  },
  "language_info": {
   "codemirror_mode": {
    "name": "ipython",
    "version": 3
   },
   "file_extension": ".py",
   "mimetype": "text/x-python",
   "name": "python",
   "nbconvert_exporter": "python",
   "pygments_lexer": "ipython3",
   "version": "3.12.8"
  },
  "widgets": {
   "application/vnd.jupyter.widget-state+json": {
    "state": {},
    "version_major": 2,
    "version_minor": 0
   }
  }
 },
 "nbformat": 4,
 "nbformat_minor": 5
}
